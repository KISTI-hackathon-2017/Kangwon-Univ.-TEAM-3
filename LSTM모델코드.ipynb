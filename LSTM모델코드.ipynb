{
 "cells": [
  {
   "cell_type": "markdown",
   "metadata": {},
   "source": [
    "필요한 모듈 로딩"
   ]
  },
  {
   "cell_type": "code",
   "execution_count": 269,
   "metadata": {
    "collapsed": true
   },
   "outputs": [],
   "source": [
    "from keras.models import Sequential\n",
    "from keras.layers import LSTM, Dense,Dropout\n",
    "import numpy as np\n",
    "import math\n",
    "from sklearn.preprocessing import MinMaxScaler\n",
    "import random\n",
    "import matplotlib.pyplot as plt\n",
    "from sklearn.metrics import mean_squared_error\n",
    "from keras.models import load_model"
   ]
  },
  {
   "cell_type": "markdown",
   "metadata": {},
   "source": [
    "파일을 읽어와 딕셔너리에 저장 ( 기간 설정 )"
   ]
  },
  {
   "cell_type": "code",
   "execution_count": 266,
   "metadata": {
    "collapsed": true
   },
   "outputs": [],
   "source": [
    "def initial_dict(sector_size,start_month,end_month):\n",
    "    dic = {}\n",
    "    for number in range(1,sector_size+1):\n",
    "        dic[str(number)] = {}\n",
    "        for month in range(start_month,end_month+1):\n",
    "            dic[str(number)][str(month)] = {}\n",
    "    return dic\n",
    "if __name__ == \"__main__\":\n",
    "    Attribute_name_list = ['hour','minute','pm2_5_value','pm10_value','co_value','hum_value','temp_value',\\\n",
    "                           'station_num','factory_num','construction_num','no2_value','voc_value','so2_value']\n",
    "    #학습할 기간(데이터내 기간) 설정\n",
    "    Start_month = 7\n",
    "    End_month = 11\n",
    "    Sector_size = 28\n",
    "    File_name = ''\n",
    "    All_dataset = initial_dict(Sector_size,Start_month,End_month)\n",
    "    for month in range(Start_month,End_month+1):\n",
    "        #파일을 읽어오고 속성값들 읽어옴\n",
    "        Attributes = []\n",
    "        File_name = './10분/'+str(month)+'월.txt'\n",
    "        f = open(File_name,'r')\n",
    "        Attributes_line = f.readline()\n",
    "        for attribute in Attributes_line.strip().split('|'):\n",
    "            Attributes.append(attribute)\n",
    "        \n",
    "        #속성값들의 인덱스를 구하는 과정    \n",
    "        Sector_index = Attributes.index('sector')\n",
    "        Month_index = Attributes.index('month')\n",
    "        Day_index = Attributes.index('day')\n",
    "        Hour_index = Attributes.index('hour')\n",
    "        Min_index = Attributes.index('minute')\n",
    "        Attribute_indexes = []\n",
    "        for attribute_name in Attribute_name_list:\n",
    "            Attribute_indexes.append(Attributes.index(attribute_name))\n",
    "            \n",
    "        #데이터셋에 튜플내용들 추가\n",
    "        key_hour_list = []\n",
    "        value_list = []\n",
    "        min_value,max_value = 1,160 # 사전에 결정.\n",
    "        for tuple_line in f.readlines():\n",
    "            attribute = tuple_line.strip().split('|')\n",
    "            key_hour_list.append([attribute[Sector_index],attribute[Month_index],attribute[Day_index],attribute[Hour_index],attribute[Min_index]])\n",
    "            temp = []\n",
    "            for index in Attribute_indexes:\n",
    "                temp.append(float(attribute[index]))\n",
    "\n",
    "            value_list.append(temp)\n",
    "        index = 0\n",
    "        for key in key_hour_list:\n",
    "            try:\n",
    "                temp = (value_list[index])\n",
    "                All_dataset[key[Sector_index]][key[Month_index]][key[Day_index]].append(temp)\n",
    "                index += 1\n",
    "            except:\n",
    "                All_dataset[key[Sector_index]][key[Month_index]][key[Day_index]]=[temp]\n",
    "                index += 1\n",
    "        f.close()"
   ]
  },
  {
   "cell_type": "markdown",
   "metadata": {},
   "source": [
    "트레이닝,테스트 데이터셋 생성"
   ]
  },
  {
   "cell_type": "code",
   "execution_count": 258,
   "metadata": {
    "collapsed": true
   },
   "outputs": [],
   "source": [
    "def make_train_dataset(All_dataset,sector_size,start_month,start_day,end_month,end_day,attribute_name_list,look_back,time):\n",
    "    target = 'pm10_value' # 목표 속성값 선택\n",
    "    #학습에 사용할 속성 값 선택\n",
    "    train_attribute_name_list = ['pm2_5_value','pm10_value','co_value','hum_value','temp_value',\\\n",
    "                          'station_num','factory_num','construction_num','no2_value','voc_value','so2_value']\n",
    "    train_index = []\n",
    "    for name in train_attribute_name_list:\n",
    "        train_index.append(attribute_name_list.index(name))\n",
    "    trainX,trainY = [],[]\n",
    "    target_index = train_attribute_name_list.index(target)\n",
    "    for sector in range(1,sector_size+1):\n",
    "        dataset = []\n",
    "        for month in range(start_month,end_month+1):\n",
    "            if start_month == end_month:\n",
    "                start = start_day\n",
    "                end = end_day\n",
    "            else:\n",
    "                if month == start_month:\n",
    "                    start = start_day\n",
    "                    end = len(All_dataset[str(sector)][str(month)])\n",
    "                elif month == end_month:\n",
    "                    start = 1\n",
    "                    end = end_day\n",
    "                else:\n",
    "                    start = 1\n",
    "                    end = len(All_dataset[str(sector)][str(month)])\n",
    "            try:\n",
    "                for day in range(start,end+1):\n",
    "                    for i in range(len(All_dataset[str(sector)][str(month)][str(day)])):\n",
    "                        temp = []\n",
    "                        for j in train_index:\n",
    "                            temp.append(All_dataset[str(sector)][str(month)][str(day)][i][j])\n",
    "                        dataset.append(temp)\n",
    "            except KeyError:\n",
    "                pass\n",
    "        for i in range(len(dataset)-look_back):\n",
    "            if len(dataset) < (i+time+look_back):\n",
    "                break\n",
    "            temp_list = dataset[i:(i+look_back)]\n",
    "            trainX.append(temp_list)\n",
    "            trainY.append(dataset[i+time+look_back-1][target_index])            \n",
    "    batch_size = int(len(trainX)/sector_size)\n",
    "    return np.array(trainX),np.array(trainY),batch_size\n",
    "\n",
    "def make_test_dataset(All_dataset,sector_size,month,day,attribute_name_list,look_back,time):\n",
    "    target = 'pm10_value'\n",
    "    test_attribute_name_list = ['pm2_5_value','pm10_value','co_value','hum_value','temp_value',\\\n",
    "                          'station_num','factory_num','construction_num','no2_value','voc_value','so2_value']\n",
    "    testX,testY = [],[]\n",
    "    test_index = []\n",
    "    for name in test_attribute_name_list:\n",
    "        test_index.append(attribute_name_list.index(name))\n",
    "    target_index = test_attribute_name_list.index(target)\n",
    "    for sector in range(1,sector_size+1):\n",
    "        dataset = []\n",
    "        for i in range(len(All_dataset[str(sector)][str(month)][str(day)])):\n",
    "            temp = []\n",
    "            for j in test_index:\n",
    "                temp.append(All_dataset[str(sector)][str(month)][str(day)][i][j])\n",
    "            dataset.append(temp)\n",
    "        for i in range(len(dataset)-look_back):\n",
    "            if len(dataset) < (i+time+look_back):\n",
    "                break\n",
    "            temp_list = dataset[i:(i+look_back)]\n",
    "            testX.append(temp_list)\n",
    "            testY.append(dataset[i+time+look_back-1][target_index])\n",
    "            \n",
    "    batch_size = int(len(testX)/sector_size)\n",
    "    return np.array(testX),np.array(testY),batch_size\n",
    "\n",
    "def make_test_data_time(All_dataset,sector_size,month,day,start_time,attribute_name_list,look_back,time):\n",
    "    target = 'pm10_value'\n",
    "    test_attribute_name_list = ['pm2_5_value','pm10_value','co_value','hum_value','temp_value',\\\n",
    "                          'station_num','factory_num','construction_num','no2_value','voc_value','so2_value']\n",
    "    testX,testY = [],[]\n",
    "    test_index = []\n",
    "    for name in test_attribute_name_list:\n",
    "        test_index.append(attribute_name_list.index(name))\n",
    "    target_index = test_attribute_name_list.index(target)\n",
    "            \n",
    "    for sector in range(1,sector_size+1):\n",
    "        dataset = []\n",
    "       # print(dataset)\n",
    "        for i in range(len(All_dataset[str(sector)][str(month)][str(day)])):\n",
    "            temp = []\n",
    "            for j in test_index:\n",
    "                temp.append(All_dataset[str(sector)][str(month)][str(day)][i][j])\n",
    "            dataset.append(temp)\n",
    "        try:\n",
    "            temp_list = dataset[(start_time-look_back+1):start_time+1]\n",
    "            testX.append(temp_list)\n",
    "            testY.append(dataset[start_time+time-1][target_index])\n",
    "        except:\n",
    "            print('Data period or Look_back or Predict Time error')\n",
    "            \n",
    "    return np.array(testX),np.array(testY)"
   ]
  },
  {
   "cell_type": "markdown",
   "metadata": {},
   "source": [
    "스케일러 된 값 수정 및 구획별 예측값 평균을 구함"
   ]
  },
  {
   "cell_type": "code",
   "execution_count": 5,
   "metadata": {
    "collapsed": true
   },
   "outputs": [],
   "source": [
    "def inverse_Scaler(data,max_value,min_value):\n",
    "    inverse_data = []\n",
    "    for i in range(len(data)):\n",
    "        try:\n",
    "            inverse_data.append(data[i][0]*(max_value-min_value)+min_value)\n",
    "        except IndexError:\n",
    "            inverse_data.append(data[i]*(max_value-min_value)+min_value)\n",
    "    return inverse_data\n",
    "\n",
    "def average_value(data,Sector_size,batch_size):\n",
    "    average_list = []\n",
    "    for i in range(0,batch_size):\n",
    "        temp = data[i]\n",
    "        for j in range(1,Sector_size-1):\n",
    "            temp += data[i+batch_size*j]\n",
    "        average = temp/Sector_size\n",
    "        average_list.append(average)\n",
    "    return average_list"
   ]
  },
  {
   "cell_type": "markdown",
   "metadata": {},
   "source": [
    "현재시점에서 얼만큼의 전의 데이터를 볼것인지와 몇 시간 후를 예측할지를 정함"
   ]
  },
  {
   "cell_type": "code",
   "execution_count": 273,
   "metadata": {
    "collapsed": true
   },
   "outputs": [],
   "source": [
    "look_back = 3\n",
    "time = 3\n",
    "trainX,trainY,train_batch_size = make_train_dataset(All_dataset,Sector_size,7,1,11,13,Attribute_name_list,look_back,time)"
   ]
  },
  {
   "cell_type": "code",
   "execution_count": 274,
   "metadata": {
    "collapsed": true
   },
   "outputs": [],
   "source": [
    "testX,testY,test_batch_size = make_test_dataset(All_dataset,Sector_size,11,14,Attribute_name_list,look_back,time)"
   ]
  },
  {
   "cell_type": "markdown",
   "metadata": {},
   "source": [
    "모델 학습"
   ]
  },
  {
   "cell_type": "code",
   "execution_count": 275,
   "metadata": {},
   "outputs": [
    {
     "name": "stdout",
     "output_type": "stream",
     "text": [
      "Epoch 1/10\n",
      "548212/548212 [==============================] - 19s 35us/step - loss: 0.0265\n",
      "Epoch 2/10\n",
      "548212/548212 [==============================] - 14s 25us/step - loss: 0.0103\n",
      "Epoch 3/10\n",
      "548212/548212 [==============================] - 14s 25us/step - loss: 0.0071\n",
      "Epoch 4/10\n",
      "548212/548212 [==============================] - 14s 25us/step - loss: 0.0069\n",
      "Epoch 5/10\n",
      "548212/548212 [==============================] - 14s 25us/step - loss: 0.0067\n",
      "Epoch 6/10\n",
      "548212/548212 [==============================] - 14s 26us/step - loss: 0.0067\n",
      "Epoch 7/10\n",
      "548212/548212 [==============================] - 14s 25us/step - loss: 0.0066\n",
      "Epoch 8/10\n",
      "548212/548212 [==============================] - 14s 25us/step - loss: 0.0065\n",
      "Epoch 9/10\n",
      "548212/548212 [==============================] - 14s 25us/step - loss: 0.0065\n",
      "Epoch 10/10\n",
      "548212/548212 [==============================] - 14s 26us/step - loss: 0.0064\n"
     ]
    },
    {
     "data": {
      "text/plain": [
       "<keras.callbacks.History at 0x18c9027efd0>"
      ]
     },
     "execution_count": 275,
     "metadata": {},
     "output_type": "execute_result"
    }
   ],
   "source": [
    "model = Sequential()\n",
    "model.add(LSTM(32,return_sequences=True,input_shape=(look_back, 11)))\n",
    "model.add(LSTM(16))\n",
    "model.add(Dense(1))\n",
    "\n",
    "model.compile(loss='mean_squared_error', optimizer='RMSprop')\n",
    "model.fit(trainX,trainY, epochs=10,batch_size=train_batch_size)"
   ]
  },
  {
   "cell_type": "code",
   "execution_count": 268,
   "metadata": {
    "collapsed": true
   },
   "outputs": [],
   "source": [
    "# make predictions\n",
    "trainPredict = model.predict(trainX,batch_size=train_batch_size)\n",
    "testPredict = model.predict(testX,batch_size=test_batch_size)"
   ]
  },
  {
   "cell_type": "code",
   "execution_count": 61,
   "metadata": {
    "collapsed": true
   },
   "outputs": [],
   "source": [
    "# invert predictions\n",
    "trainPredict = inverse_Scaler(trainPredict,max_value,min_value)\n",
    "trainY = inverse_Scaler(trainY,max_value,min_value)\n",
    "\n",
    "average_trainPredict = average_value(trainPredict,Sector_size,train_batch_size)\n",
    "average_trainY = average_value(trainY,Sector_size,train_batch_size)"
   ]
  },
  {
   "cell_type": "code",
   "execution_count": 271,
   "metadata": {
    "collapsed": true
   },
   "outputs": [],
   "source": [
    "testPredict = inverse_Scaler(testPredict,max_value,min_value)\n",
    "testY = inverse_Scaler(testY,max_value,min_value)\n",
    "\n",
    "average_testPredict = average_value(testPredict,Sector_size,test_batch_size)\n",
    "average_testY = average_value(testY,Sector_size,test_batch_size)"
   ]
  },
  {
   "cell_type": "code",
   "execution_count": 75,
   "metadata": {},
   "outputs": [
    {
     "ename": "ValueError",
     "evalue": "Found input variables with inconsistent numbers of samples: [12628, 453]",
     "output_type": "error",
     "traceback": [
      "\u001b[1;31m---------------------------------------------------------------------------\u001b[0m",
      "\u001b[1;31mValueError\u001b[0m                                Traceback (most recent call last)",
      "\u001b[1;32m<ipython-input-75-4063a3cc8831>\u001b[0m in \u001b[0;36m<module>\u001b[1;34m()\u001b[0m\n\u001b[1;32m----> 1\u001b[1;33m \u001b[0mtrainScore\u001b[0m \u001b[1;33m=\u001b[0m \u001b[0mmath\u001b[0m\u001b[1;33m.\u001b[0m\u001b[0msqrt\u001b[0m\u001b[1;33m(\u001b[0m\u001b[0mmean_squared_error\u001b[0m\u001b[1;33m(\u001b[0m\u001b[0mtrainY\u001b[0m\u001b[1;33m[\u001b[0m\u001b[1;33m:\u001b[0m\u001b[1;33m]\u001b[0m\u001b[1;33m,\u001b[0m \u001b[0mtrainPredict\u001b[0m\u001b[1;33m[\u001b[0m\u001b[1;33m:\u001b[0m\u001b[1;33m]\u001b[0m\u001b[1;33m)\u001b[0m\u001b[1;33m)\u001b[0m\u001b[1;33m\u001b[0m\u001b[0m\n\u001b[0m\u001b[0;32m      2\u001b[0m \u001b[0mprint\u001b[0m\u001b[1;33m(\u001b[0m\u001b[1;34m'Train Score: %.2f RMSE'\u001b[0m \u001b[1;33m%\u001b[0m \u001b[1;33m(\u001b[0m\u001b[0mtrainScore\u001b[0m\u001b[1;33m)\u001b[0m\u001b[1;33m)\u001b[0m\u001b[1;33m\u001b[0m\u001b[0m\n\u001b[0;32m      3\u001b[0m \u001b[1;33m\u001b[0m\u001b[0m\n\u001b[0;32m      4\u001b[0m \u001b[0mtestScore\u001b[0m \u001b[1;33m=\u001b[0m \u001b[0mmath\u001b[0m\u001b[1;33m.\u001b[0m\u001b[0msqrt\u001b[0m\u001b[1;33m(\u001b[0m\u001b[0mmean_squared_error\u001b[0m\u001b[1;33m(\u001b[0m\u001b[0mtestY\u001b[0m\u001b[1;33m[\u001b[0m\u001b[1;33m:\u001b[0m\u001b[1;33m]\u001b[0m\u001b[1;33m,\u001b[0m \u001b[0mtestPredict\u001b[0m\u001b[1;33m[\u001b[0m\u001b[1;33m:\u001b[0m\u001b[1;33m]\u001b[0m\u001b[1;33m)\u001b[0m\u001b[1;33m)\u001b[0m\u001b[1;33m\u001b[0m\u001b[0m\n\u001b[0;32m      5\u001b[0m \u001b[0mprint\u001b[0m\u001b[1;33m(\u001b[0m\u001b[1;34m'Test Score: %.2f RMSE'\u001b[0m \u001b[1;33m%\u001b[0m \u001b[1;33m(\u001b[0m\u001b[0mtestScore\u001b[0m\u001b[1;33m)\u001b[0m\u001b[1;33m)\u001b[0m\u001b[1;33m\u001b[0m\u001b[0m\n",
      "\u001b[1;32mD:\\anaconda\\lib\\site-packages\\sklearn\\metrics\\regression.py\u001b[0m in \u001b[0;36mmean_squared_error\u001b[1;34m(y_true, y_pred, sample_weight, multioutput)\u001b[0m\n\u001b[0;32m    236\u001b[0m     \"\"\"\n\u001b[0;32m    237\u001b[0m     y_type, y_true, y_pred, multioutput = _check_reg_targets(\n\u001b[1;32m--> 238\u001b[1;33m         y_true, y_pred, multioutput)\n\u001b[0m\u001b[0;32m    239\u001b[0m     output_errors = np.average((y_true - y_pred) ** 2, axis=0,\n\u001b[0;32m    240\u001b[0m                                weights=sample_weight)\n",
      "\u001b[1;32mD:\\anaconda\\lib\\site-packages\\sklearn\\metrics\\regression.py\u001b[0m in \u001b[0;36m_check_reg_targets\u001b[1;34m(y_true, y_pred, multioutput)\u001b[0m\n\u001b[0;32m     73\u001b[0m \u001b[1;33m\u001b[0m\u001b[0m\n\u001b[0;32m     74\u001b[0m     \"\"\"\n\u001b[1;32m---> 75\u001b[1;33m     \u001b[0mcheck_consistent_length\u001b[0m\u001b[1;33m(\u001b[0m\u001b[0my_true\u001b[0m\u001b[1;33m,\u001b[0m \u001b[0my_pred\u001b[0m\u001b[1;33m)\u001b[0m\u001b[1;33m\u001b[0m\u001b[0m\n\u001b[0m\u001b[0;32m     76\u001b[0m     \u001b[0my_true\u001b[0m \u001b[1;33m=\u001b[0m \u001b[0mcheck_array\u001b[0m\u001b[1;33m(\u001b[0m\u001b[0my_true\u001b[0m\u001b[1;33m,\u001b[0m \u001b[0mensure_2d\u001b[0m\u001b[1;33m=\u001b[0m\u001b[1;32mFalse\u001b[0m\u001b[1;33m)\u001b[0m\u001b[1;33m\u001b[0m\u001b[0m\n\u001b[0;32m     77\u001b[0m     \u001b[0my_pred\u001b[0m \u001b[1;33m=\u001b[0m \u001b[0mcheck_array\u001b[0m\u001b[1;33m(\u001b[0m\u001b[0my_pred\u001b[0m\u001b[1;33m,\u001b[0m \u001b[0mensure_2d\u001b[0m\u001b[1;33m=\u001b[0m\u001b[1;32mFalse\u001b[0m\u001b[1;33m)\u001b[0m\u001b[1;33m\u001b[0m\u001b[0m\n",
      "\u001b[1;32mD:\\anaconda\\lib\\site-packages\\sklearn\\utils\\validation.py\u001b[0m in \u001b[0;36mcheck_consistent_length\u001b[1;34m(*arrays)\u001b[0m\n\u001b[0;32m    202\u001b[0m     \u001b[1;32mif\u001b[0m \u001b[0mlen\u001b[0m\u001b[1;33m(\u001b[0m\u001b[0muniques\u001b[0m\u001b[1;33m)\u001b[0m \u001b[1;33m>\u001b[0m \u001b[1;36m1\u001b[0m\u001b[1;33m:\u001b[0m\u001b[1;33m\u001b[0m\u001b[0m\n\u001b[0;32m    203\u001b[0m         raise ValueError(\"Found input variables with inconsistent numbers of\"\n\u001b[1;32m--> 204\u001b[1;33m                          \" samples: %r\" % [int(l) for l in lengths])\n\u001b[0m\u001b[0;32m    205\u001b[0m \u001b[1;33m\u001b[0m\u001b[0m\n\u001b[0;32m    206\u001b[0m \u001b[1;33m\u001b[0m\u001b[0m\n",
      "\u001b[1;31mValueError\u001b[0m: Found input variables with inconsistent numbers of samples: [12628, 453]"
     ]
    }
   ],
   "source": [
    "trainScore = math.sqrt(mean_squared_error(trainY[:], trainPredict[:]))\n",
    "print('Train Score: %.2f RMSE' % (trainScore))\n",
    "\n",
    "testScore = math.sqrt(mean_squared_error(testY[:], testPredict[:]))\n",
    "print('Test Score: %.2f RMSE' % (testScore))"
   ]
  },
  {
   "cell_type": "code",
   "execution_count": 272,
   "metadata": {},
   "outputs": [
    {
     "data": {
      "image/png": "[encoded data removed]",
      "text/plain": [
       "<matplotlib.figure.Figure at 0x18cbf6cbba8>"
      ]
     },
     "metadata": {},
     "output_type": "display_data"
    }
   ],
   "source": [
    "plt.plot(average_testPredict[:])\n",
    "plt.plot(average_testY[:])\n",
    "plt.show()"
   ]
  },
  {
   "cell_type": "code",
   "execution_count": 276,
   "metadata": {
    "collapsed": true
   },
   "outputs": [],
   "source": [
    "model.save('./10min-3time.h5')"
   ]
  },
  {
   "cell_type": "code",
   "execution_count": null,
   "metadata": {
    "collapsed": true
   },
   "outputs": [],
   "source": [
    "def save_result(data):\n",
    "    "
   ]
  }
 ],
 "metadata": {
  "kernelspec": {
   "display_name": "Python 3",
   "language": "python",
   "name": "python3"
  },
  "language_info": {
   "codemirror_mode": {
    "name": "ipython",
    "version": 3
   },
   "file_extension": ".py",
   "mimetype": "text/x-python",
   "name": "python",
   "nbconvert_exporter": "python",
   "pygments_lexer": "ipython3",
   "version": "3.6.3"
  }
 },
 "nbformat": 4,
 "nbformat_minor": 2
}
